{
 "cells": [
  {
   "cell_type": "code",
   "execution_count": 2,
   "metadata": {},
   "outputs": [],
   "source": [
    "# MIT License\n",
    "\n",
    "# Copyright (c) [2019] [Jayden Booth]\n",
    "\n",
    "# Permission is hereby granted, free of charge, to any person obtaining a copy\n",
    "# of this software and associated documentation files (the \"Software\"), to deal\n",
    "# in the Software without restriction, including without limitation the rights\n",
    "# to use, copy, modify, merge, publish, distribute, sublicense, and/or sell\n",
    "# copies of the Software, and to permit persons to whom the Software is\n",
    "# furnished to do so, subject to the following conditions:\n",
    "\n",
    "# The above copyright notice and this permission notice shall be included in all\n",
    "# copies or substantial portions of the Software.\n",
    "\n",
    "# THE SOFTWARE IS PROVIDED \"AS IS\", WITHOUT WARRANTY OF ANY KIND, EXPRESS OR\n",
    "# IMPLIED, INCLUDING BUT NOT LIMITED TO THE WARRANTIES OF MERCHANTABILITY,\n",
    "# FITNESS FOR A PARTICULAR PURPOSE AND NONINFRINGEMENT. IN NO EVENT SHALL THE\n",
    "# AUTHORS OR COPYRIGHT HOLDERS BE LIABLE FOR ANY CLAIM, DAMAGES OR OTHER\n",
    "# LIABILITY, WHETHER IN AN ACTION OF CONTRACT, TORT OR OTHERWISE, ARISING FROM,\n",
    "# OUT OF OR IN CONNECTION WITH THE SOFTWARE OR THE USE OR OTHER DEALINGS IN THE\n",
    "# SOFTWARE.\n",
    "\n",
    "# Import Libraries\n",
    "import numpy as np\n",
    "import tensorflow as tf\n",
    "import keras\n",
    "from keras.layers import Input, Dense, GaussianNoise,Lambda,Dropout, Concatenate\n",
    "from keras.models import Model\n",
    "from keras import regularizers\n",
    "from keras.layers.normalization import BatchNormalization\n",
    "from keras.optimizers import Adam,SGD\n",
    "from keras import backend as K\n",
    "%matplotlib inline"
   ]
  },
  {
   "cell_type": "code",
   "execution_count": 3,
   "metadata": {},
   "outputs": [],
   "source": [
    "# Set random seeds\n",
    "from numpy.random import seed\n",
    "seed(1)\n",
    "from tensorflow import set_random_seed\n",
    "set_random_seed(3)"
   ]
  },
  {
   "cell_type": "code",
   "execution_count": 4,
   "metadata": {},
   "outputs": [
    {
     "name": "stdout",
     "output_type": "stream",
     "text": [
      "M: 16 \t n: 1\n"
     ]
    }
   ],
   "source": [
    "# Set the defining parameters\n",
    "# n = n_channel complex numbers (so 2n real numbers)\n",
    "# k = log2(M), where M is the number of messages to encode\n",
    "# EbNo is the energy per bit to noise power density\n",
    "\n",
    "# Encoder Parameters\n",
    "M = 16\n",
    "k = np.log2(M)\n",
    "n_channel = 1\n",
    "R = k/n_channel\n",
    "print('M:',M,'\\t','n:',n_channel)\n",
    "\n",
    "# Channel Parameters\n",
    "EbNo=10.0**(7/10.0)\n",
    "noise_std = np.sqrt(1/(2*R*EbNo))\n",
    "num_taps = 1\n",
    "reyleigh_std = num_taps/np.sqrt(2)"
   ]
  },
  {
   "cell_type": "code",
   "execution_count": 5,
   "metadata": {},
   "outputs": [],
   "source": [
    "#generating data of size N\n",
    "N = 16000\n",
    "label = np.random.randint(M,size=N)"
   ]
  },
  {
   "cell_type": "code",
   "execution_count": 6,
   "metadata": {},
   "outputs": [],
   "source": [
    "# creating one hot encoded vectors\n",
    "data = []\n",
    "for i in label:\n",
    "    temp = np.zeros(M)\n",
    "    temp[i] = 1\n",
    "    data.append(temp)"
   ]
  },
  {
   "cell_type": "code",
   "execution_count": 7,
   "metadata": {},
   "outputs": [
    {
     "name": "stdout",
     "output_type": "stream",
     "text": [
      "(16000, 16)\n"
     ]
    }
   ],
   "source": [
    "# checking data shape\n",
    "data = np.array(data)\n",
    "print (data.shape)"
   ]
  },
  {
   "cell_type": "code",
   "execution_count": 8,
   "metadata": {},
   "outputs": [
    {
     "name": "stdout",
     "output_type": "stream",
     "text": [
      "9 [0. 0. 0. 0. 0. 0. 0. 0. 0. 1. 0. 0. 0. 0. 0. 0.]\n",
      "4 [0. 0. 0. 0. 1. 0. 0. 0. 0. 0. 0. 0. 0. 0. 0. 0.]\n",
      "13 [0. 0. 0. 0. 0. 0. 0. 0. 0. 0. 0. 0. 0. 1. 0. 0.]\n",
      "3 [0. 0. 0. 1. 0. 0. 0. 0. 0. 0. 0. 0. 0. 0. 0. 0.]\n",
      "9 [0. 0. 0. 0. 0. 0. 0. 0. 0. 1. 0. 0. 0. 0. 0. 0.]\n",
      "7 [0. 0. 0. 0. 0. 0. 0. 1. 0. 0. 0. 0. 0. 0. 0. 0.]\n",
      "12 [0. 0. 0. 0. 0. 0. 0. 0. 0. 0. 0. 0. 1. 0. 0. 0.]\n",
      "15 [0. 0. 0. 0. 0. 0. 0. 0. 0. 0. 0. 0. 0. 0. 0. 1.]\n",
      "12 [0. 0. 0. 0. 0. 0. 0. 0. 0. 0. 0. 0. 1. 0. 0. 0.]\n"
     ]
    }
   ],
   "source": [
    "# checking generated data with it's label\n",
    "temp_check = [17,23,45,67,89,96,72,250,350]\n",
    "for i in temp_check:\n",
    "    print(label[i],data[i])"
   ]
  },
  {
   "cell_type": "code",
   "execution_count": 9,
   "metadata": {},
   "outputs": [],
   "source": [
    "# Average Power Normalization\n",
    "def avg_power_norm(x):\n",
    "    P_avg = 0.04\n",
    "    beta = K.sqrt(K.sum(K.square(x)))\n",
    "    return x / beta"
   ]
  },
  {
   "cell_type": "code",
   "execution_count": 10,
   "metadata": {},
   "outputs": [
    {
     "name": "stderr",
     "output_type": "stream",
     "text": [
      "WARNING: Logging before flag parsing goes to stderr.\n",
      "W0709 16:37:03.305351 140364529686336 deprecation_wrapper.py:119] From /usr/local/lib/python3.6/dist-packages/keras/backend/tensorflow_backend.py:74: The name tf.get_default_graph is deprecated. Please use tf.compat.v1.get_default_graph instead.\n",
      "\n",
      "W0709 16:37:03.307456 140364529686336 deprecation_wrapper.py:119] From /usr/local/lib/python3.6/dist-packages/keras/backend/tensorflow_backend.py:517: The name tf.placeholder is deprecated. Please use tf.compat.v1.placeholder instead.\n",
      "\n",
      "W0709 16:37:03.329149 140364529686336 deprecation_wrapper.py:119] From /usr/local/lib/python3.6/dist-packages/keras/backend/tensorflow_backend.py:4138: The name tf.random_uniform is deprecated. Please use tf.random.uniform instead.\n",
      "\n",
      "W0709 16:37:03.492649 140364529686336 deprecation_wrapper.py:119] From /usr/local/lib/python3.6/dist-packages/keras/backend/tensorflow_backend.py:133: The name tf.placeholder_with_default is deprecated. Please use tf.compat.v1.placeholder_with_default instead.\n",
      "\n",
      "W0709 16:37:03.542380 140364529686336 deprecation_wrapper.py:119] From /usr/local/lib/python3.6/dist-packages/keras/backend/tensorflow_backend.py:4115: The name tf.random_normal is deprecated. Please use tf.random.normal instead.\n",
      "\n",
      "W0709 16:37:03.628819 140364529686336 deprecation_wrapper.py:119] From /usr/local/lib/python3.6/dist-packages/keras/optimizers.py:790: The name tf.train.Optimizer is deprecated. Please use tf.compat.v1.train.Optimizer instead.\n",
      "\n"
     ]
    }
   ],
   "source": [
    "# Defined Autoencoder\n",
    "\n",
    "# Transmitter Layers\n",
    "input_signal = Input(shape=(M,))\n",
    "encoded = Dense(M, activation='relu')(input_signal)\n",
    "encoded1 = Dense(2*n_channel, activation='linear')(encoded)\n",
    "encoded2 = BatchNormalization()(encoded1)\n",
    "encoded3 = Lambda(lambda x: 2*K.l2_normalize(x,axis=-1))(encoded2)\n",
    "\n",
    "# Gaussian Channel Layer\n",
    "EbNo_train = 5.01187 #  coverted 7 db of EbNo\n",
    "channel1 = GaussianNoise(np.sqrt(1/(2*R*EbNo_train)))(encoded3)\n",
    "\n",
    "# Reciever Layer\n",
    "decoded = Dense(M, activation='relu')(channel1)\n",
    "decoded1 = Dense(M, activation='softmax')(decoded)\n",
    "autoencoder = Model(input_signal, decoded1)\n",
    "adam = Adam(lr=0.01)\n",
    "sgd = SGD(lr=0.02)\n",
    "autoencoder.compile(optimizer=adam, loss='categorical_crossentropy')"
   ]
  },
  {
   "cell_type": "code",
   "execution_count": 11,
   "metadata": {},
   "outputs": [
    {
     "name": "stdout",
     "output_type": "stream",
     "text": [
      "_________________________________________________________________\n",
      "Layer (type)                 Output Shape              Param #   \n",
      "=================================================================\n",
      "input_1 (InputLayer)         (None, 16)                0         \n",
      "_________________________________________________________________\n",
      "dense_1 (Dense)              (None, 16)                272       \n",
      "_________________________________________________________________\n",
      "dense_2 (Dense)              (None, 2)                 34        \n",
      "_________________________________________________________________\n",
      "batch_normalization_1 (Batch (None, 2)                 8         \n",
      "_________________________________________________________________\n",
      "lambda_1 (Lambda)            (None, 2)                 0         \n",
      "_________________________________________________________________\n",
      "gaussian_noise_1 (GaussianNo (None, 2)                 0         \n",
      "_________________________________________________________________\n",
      "dense_3 (Dense)              (None, 16)                48        \n",
      "_________________________________________________________________\n",
      "dense_4 (Dense)              (None, 16)                272       \n",
      "=================================================================\n",
      "Total params: 634\n",
      "Trainable params: 630\n",
      "Non-trainable params: 4\n",
      "_________________________________________________________________\n",
      "None\n"
     ]
    }
   ],
   "source": [
    "# printing summary of layers and it's trainable parameters \n",
    "print (autoencoder.summary())"
   ]
  },
  {
   "cell_type": "code",
   "execution_count": 12,
   "metadata": {},
   "outputs": [
    {
     "name": "stderr",
     "output_type": "stream",
     "text": [
      "W0709 16:37:03.876514 140364529686336 deprecation.py:323] From /usr/local/lib/python3.6/dist-packages/tensorflow/python/ops/math_grad.py:1250: add_dispatch_support.<locals>.wrapper (from tensorflow.python.ops.array_ops) is deprecated and will be removed in a future version.\n",
      "Instructions for updating:\n",
      "Use tf.where in 2.0, which has the same broadcast rule as np.where\n"
     ]
    },
    {
     "name": "stdout",
     "output_type": "stream",
     "text": [
      "Epoch 1/50\n",
      "16000/16000 [==============================] - 6s 358us/step - loss: 0.9519\n",
      "Epoch 2/50\n",
      "16000/16000 [==============================] - 2s 136us/step - loss: 0.4448\n",
      "Epoch 3/50\n",
      "16000/16000 [==============================] - 2s 134us/step - loss: 0.3935\n",
      "Epoch 4/50\n",
      "16000/16000 [==============================] - 2s 131us/step - loss: 0.3794\n",
      "Epoch 5/50\n",
      "16000/16000 [==============================] - 2s 141us/step - loss: 0.3936\n",
      "Epoch 6/50\n",
      "16000/16000 [==============================] - 2s 137us/step - loss: 0.3741\n",
      "Epoch 7/50\n",
      "16000/16000 [==============================] - 2s 134us/step - loss: 0.3440\n",
      "Epoch 8/50\n",
      "16000/16000 [==============================] - 2s 140us/step - loss: 0.3492\n",
      "Epoch 9/50\n",
      "16000/16000 [==============================] - 2s 139us/step - loss: 0.3287\n",
      "Epoch 10/50\n",
      "16000/16000 [==============================] - 2s 133us/step - loss: 0.3580\n",
      "Epoch 11/50\n",
      "16000/16000 [==============================] - 2s 137us/step - loss: 0.3329\n",
      "Epoch 12/50\n",
      "16000/16000 [==============================] - 2s 139us/step - loss: 0.3108\n",
      "Epoch 13/50\n",
      "16000/16000 [==============================] - 2s 132us/step - loss: 0.3340\n",
      "Epoch 14/50\n",
      "16000/16000 [==============================] - 2s 142us/step - loss: 0.3241\n",
      "Epoch 15/50\n",
      "16000/16000 [==============================] - 2s 138us/step - loss: 0.3317\n",
      "Epoch 16/50\n",
      "16000/16000 [==============================] - 2s 135us/step - loss: 0.3321\n",
      "Epoch 17/50\n",
      "16000/16000 [==============================] - 2s 137us/step - loss: 0.3652\n",
      "Epoch 18/50\n",
      "16000/16000 [==============================] - 2s 131us/step - loss: 0.3315\n",
      "Epoch 19/50\n",
      "16000/16000 [==============================] - 2s 131us/step - loss: 0.3395\n",
      "Epoch 20/50\n",
      "16000/16000 [==============================] - 2s 134us/step - loss: 0.3167\n",
      "Epoch 21/50\n",
      "16000/16000 [==============================] - 2s 136us/step - loss: 0.3283\n",
      "Epoch 22/50\n",
      "16000/16000 [==============================] - 2s 137us/step - loss: 0.3317\n",
      "Epoch 23/50\n",
      "16000/16000 [==============================] - 2s 139us/step - loss: 0.3288\n",
      "Epoch 24/50\n",
      "16000/16000 [==============================] - 2s 142us/step - loss: 0.3490\n",
      "Epoch 25/50\n",
      "16000/16000 [==============================] - 2s 137us/step - loss: 0.3428\n",
      "Epoch 26/50\n",
      "16000/16000 [==============================] - 2s 137us/step - loss: 0.3699\n",
      "Epoch 27/50\n",
      "16000/16000 [==============================] - 2s 137us/step - loss: 0.3424\n",
      "Epoch 28/50\n",
      "16000/16000 [==============================] - 2s 134us/step - loss: 0.3218\n",
      "Epoch 29/50\n",
      "16000/16000 [==============================] - 2s 133us/step - loss: 0.3075\n",
      "Epoch 30/50\n",
      "16000/16000 [==============================] - 2s 137us/step - loss: 0.3204\n",
      "Epoch 31/50\n",
      "16000/16000 [==============================] - 2s 140us/step - loss: 0.3609\n",
      "Epoch 32/50\n",
      "16000/16000 [==============================] - 2s 138us/step - loss: 0.3090\n",
      "Epoch 33/50\n",
      "16000/16000 [==============================] - 2s 138us/step - loss: 0.3312\n",
      "Epoch 34/50\n",
      "16000/16000 [==============================] - 2s 141us/step - loss: 0.3245\n",
      "Epoch 35/50\n",
      "16000/16000 [==============================] - 2s 140us/step - loss: 0.3193\n",
      "Epoch 36/50\n",
      "16000/16000 [==============================] - 2s 133us/step - loss: 0.3393\n",
      "Epoch 37/50\n",
      "16000/16000 [==============================] - 2s 134us/step - loss: 0.3275\n",
      "Epoch 38/50\n",
      "16000/16000 [==============================] - 2s 138us/step - loss: 0.3416\n",
      "Epoch 39/50\n",
      "16000/16000 [==============================] - 2s 132us/step - loss: 0.3166\n",
      "Epoch 40/50\n",
      "16000/16000 [==============================] - 2s 138us/step - loss: 0.3364\n",
      "Epoch 41/50\n",
      "16000/16000 [==============================] - 2s 133us/step - loss: 0.3381\n",
      "Epoch 42/50\n",
      "16000/16000 [==============================] - 2s 139us/step - loss: 0.3385\n",
      "Epoch 43/50\n",
      "16000/16000 [==============================] - 2s 134us/step - loss: 0.3259\n",
      "Epoch 44/50\n",
      "16000/16000 [==============================] - 2s 130us/step - loss: 0.3249\n",
      "Epoch 45/50\n",
      "16000/16000 [==============================] - 2s 133us/step - loss: 0.3216\n",
      "Epoch 46/50\n",
      "16000/16000 [==============================] - 2s 136us/step - loss: 0.3331\n",
      "Epoch 47/50\n",
      "16000/16000 [==============================] - 2s 140us/step - loss: 0.3503\n",
      "Epoch 48/50\n",
      "16000/16000 [==============================] - 2s 135us/step - loss: 0.3193\n",
      "Epoch 49/50\n",
      "16000/16000 [==============================] - 2s 135us/step - loss: 0.3121\n",
      "Epoch 50/50\n",
      "16000/16000 [==============================] - 2s 134us/step - loss: 0.3596\n"
     ]
    },
    {
     "data": {
      "text/plain": [
       "<keras.callbacks.History at 0x7fa90593e668>"
      ]
     },
     "execution_count": 12,
     "metadata": {},
     "output_type": "execute_result"
    }
   ],
   "source": [
    "# traning auto encoder\n",
    "autoencoder.fit(data, data,\n",
    "                epochs=50,\n",
    "                batch_size=64)"
   ]
  },
  {
   "cell_type": "code",
   "execution_count": 13,
   "metadata": {},
   "outputs": [],
   "source": [
    "# making encoder from full autoencoder\n",
    "encoder = Model(input_signal, encoded3)"
   ]
  },
  {
   "cell_type": "code",
   "execution_count": 14,
   "metadata": {},
   "outputs": [],
   "source": [
    "# making channel from full autoencoder\n",
    "channel_input = Input(shape=(2*n_channel,))\n",
    "\n",
    "chan = autoencoder.layers[-3](channel_input)\n",
    "channel_layer = Model(channel_input,chan)"
   ]
  },
  {
   "cell_type": "code",
   "execution_count": 15,
   "metadata": {},
   "outputs": [],
   "source": [
    "# making decoder from full autoencoder\n",
    "encoded_input = Input(shape=(2*n_channel,))\n",
    "\n",
    "deco = autoencoder.layers[-2](encoded_input)\n",
    "deco = autoencoder.layers[-1](deco)\n",
    "decoder = Model(encoded_input, deco)"
   ]
  },
  {
   "cell_type": "code",
   "execution_count": 16,
   "metadata": {},
   "outputs": [],
   "source": [
    "# generating data for checking BER\n",
    "N = 100000\n",
    "test_label = np.random.randint(M,size=N)\n",
    "test_data = []\n",
    "\n",
    "for i in test_label:\n",
    "    temp = np.zeros(M)\n",
    "    temp[i] = 1\n",
    "    test_data.append(temp)\n",
    "    \n",
    "test_data = np.array(test_data)"
   ]
  },
  {
   "cell_type": "code",
   "execution_count": 23,
   "metadata": {},
   "outputs": [
    {
     "name": "stdout",
     "output_type": "stream",
     "text": [
      "(16, 1, 2)\n"
     ]
    }
   ],
   "source": [
    "# for plotting learned consteallation diagram\n",
    "\n",
    "scatter_plot = []\n",
    "for i in range(0,M):\n",
    "    temp = np.zeros(M)\n",
    "    temp[i] = 1\n",
    "    scatter_plot.append(encoder.predict(np.expand_dims(temp,axis=0)))\n",
    "scatter_plot = 1.5/2*np.array(scatter_plot)\n",
    "print (scatter_plot.shape)"
   ]
  },
  {
   "cell_type": "code",
   "execution_count": 26,
   "metadata": {},
   "outputs": [
    {
     "data": {
      "image/png": "[encoded data removed]",
      "text/plain": [
       "<Figure size 432x288 with 1 Axes>"
      ]
     },
     "metadata": {
      "needs_background": "light"
     },
     "output_type": "display_data"
    }
   ],
   "source": [
    "# ploting constellation diagram\n",
    "import matplotlib.pyplot as plt\n",
    "scatter_plot = scatter_plot.reshape(M,2,1)\n",
    "plt.scatter(scatter_plot[:,0],scatter_plot[:,1])\n",
    "plt.axis((-2.5,2.5,-2.5,2.5))\n",
    "plt.grid()\n",
    "plt.xlabel('I Axis')\n",
    "plt.ylabel('Q Axis')\n",
    "plt.show()"
   ]
  },
  {
   "cell_type": "code",
   "execution_count": 27,
   "metadata": {},
   "outputs": [
    {
     "name": "stdout",
     "output_type": "stream",
     "text": [
      "(16, 1, 2)\n"
     ]
    },
    {
     "data": {
      "image/png": "[encoded data removed]",
      "text/plain": [
       "<Figure size 432x288 with 1 Axes>"
      ]
     },
     "metadata": {
      "needs_background": "light"
     },
     "output_type": "display_data"
    }
   ],
   "source": [
    "# for plotting learned consteallation diagram after gaussian channel\n",
    "\n",
    "scatter_plot = []\n",
    "for i in range(0,M):\n",
    "    temp = np.zeros(M)\n",
    "    temp[i] = 1\n",
    "    scatter_plot.append(channel_layer.predict(encoder.predict(np.expand_dims(temp,axis=0))))\n",
    "scatter_plot = np.array(scatter_plot)\n",
    "print (scatter_plot.shape)\n",
    "\n",
    "# ploting constellation diagram\n",
    "import matplotlib.pyplot as plt\n",
    "scatter_plot = scatter_plot.reshape(M,2,1)\n",
    "plt.scatter(scatter_plot[:,0],scatter_plot[:,1])\n",
    "#plt.axis((-2.5,2.5,-2.5,2.5))\n",
    "plt.grid()\n",
    "plt.show()"
   ]
  },
  {
   "cell_type": "code",
   "execution_count": 20,
   "metadata": {},
   "outputs": [
    {
     "name": "stdout",
     "output_type": "stream",
     "text": [
      "SNR: 0 BER: 0.28626\n",
      "SNR: 2 BER: 0.18528\n",
      "SNR: 4 BER: 0.10567\n",
      "SNR: 6 BER: 0.04923\n",
      "SNR: 8 BER: 0.01931\n",
      "SNR: 10 BER: 0.00533\n",
      "SNR: 12 BER: 0.00105\n",
      "SNR: 14 BER: 0.00018\n",
      "SNR: 16 BER: 0.0\n",
      "SNR: 18 BER: 0.0\n",
      "SNR: 20 BER: 0.0\n"
     ]
    }
   ],
   "source": [
    "# calculating BER\n",
    "# this is optimized BER function so it can handle large number of N\n",
    "# previous code has another for loop which was making it slow\n",
    "EbNodB_range = list(np.arange(0,20+1,2))\n",
    "ber = [None]*len(EbNodB_range)\n",
    "for n in range(0,len(EbNodB_range)):\n",
    "    EbNo=10.0**(EbNodB_range[n]/10.0)\n",
    "    noise_std = np.sqrt(1/(2*R*EbNo))\n",
    "    noise_mean = 0\n",
    "    no_errors = 0\n",
    "    nn = N\n",
    "    noise = noise_std*np.random.randn(nn,2*n_channel)\n",
    "    encoded_signal = encoder.predict(test_data) \n",
    "    final_signal = encoded_signal+noise\n",
    "    pred_final_signal =  decoder.predict(final_signal)\n",
    "    pred_output = np.argmax(pred_final_signal,axis=1)\n",
    "    no_errors = (pred_output != test_label)\n",
    "    no_errors =  no_errors.astype(int).sum()\n",
    "    ber[n] = no_errors / nn \n",
    "    print ('SNR:',EbNodB_range[n],'BER:',ber[n])"
   ]
  },
  {
   "cell_type": "code",
   "execution_count": 21,
   "metadata": {},
   "outputs": [
    {
     "data": {
      "image/png": "[encoded data removed]",
      "text/plain": [
       "<Figure size 432x288 with 1 Axes>"
      ]
     },
     "metadata": {
      "needs_background": "light"
     },
     "output_type": "display_data"
    }
   ],
   "source": [
    "# ploting ber curve\n",
    "import matplotlib.pyplot as plt\n",
    "from scipy import interpolate\n",
    "plt.plot(EbNodB_range, ber, 'bo',label='Autoencoder(1,2)')\n",
    "plt.yscale('log')\n",
    "plt.xlabel('SNR Range')\n",
    "plt.ylabel('Block Error Rate')\n",
    "plt.grid()\n",
    "plt.legend(loc='upper right',ncol = 1)\n",
    "plt.show()"
   ]
  },
  {
   "cell_type": "code",
   "execution_count": null,
   "metadata": {},
   "outputs": [],
   "source": []
  }
 ],
 "metadata": {
  "kernelspec": {
   "display_name": "Python 3",
   "language": "python",
   "name": "python3"
  },
  "language_info": {
   "codemirror_mode": {
    "name": "ipython",
    "version": 3
   },
   "file_extension": ".py",
   "mimetype": "text/x-python",
   "name": "python",
   "nbconvert_exporter": "python",
   "pygments_lexer": "ipython3",
   "version": "3.6.8"
  }
 },
 "nbformat": 4,
 "nbformat_minor": 2
}
